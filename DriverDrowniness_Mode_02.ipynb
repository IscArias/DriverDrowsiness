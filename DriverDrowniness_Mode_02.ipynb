{
 "cells": [
  {
   "cell_type": "markdown",
   "metadata": {
    "id": "KFwOnqCr3nt4"
   },
   "source": [
    "# Importación de Librerías Necesarias"
   ]
  },
  {
   "cell_type": "code",
   "execution_count": 1,
   "metadata": {
    "executionInfo": {
     "elapsed": 1143,
     "status": "ok",
     "timestamp": 1676777542352,
     "user": {
      "displayName": "ANGEL ARIAS",
      "userId": "15940696792352955875"
     },
     "user_tz": 300
    },
    "id": "qodc2Cfa_XSz"
   },
   "outputs": [],
   "source": [
    "# CNN\n",
    "import os\n",
    "import keras\n",
    "import scipy\n",
    "from keras.preprocessing import image\n",
    "import matplotlib.pyplot as plt\n",
    "import numpy as np\n",
    "from keras.utils.np_utils import to_categorical\n",
    "import random, shutil\n",
    "from keras.models import Sequential\n",
    "from keras.layers import (\n",
    "    Dropout,\n",
    "    Conv2D,\n",
    "    Flatten,\n",
    "    Dense,\n",
    "    MaxPooling2D,\n",
    "    BatchNormalization,\n",
    ")\n",
    "from keras.models import load_model\n",
    "from keras.optimizers import Adam\n",
    "from keras.preprocessing.image import ImageDataGenerator\n",
    "import keras.utils as image\n",
    "from PIL import Image"
   ]
  },
  {
   "cell_type": "markdown",
   "metadata": {
    "id": "ACBJgbWzz8SR"
   },
   "source": [
    "# Generador de imágenes Normal"
   ]
  },
  {
   "cell_type": "code",
   "execution_count": 2,
   "metadata": {
    "executionInfo": {
     "elapsed": 6,
     "status": "ok",
     "timestamp": 1676777570903,
     "user": {
      "displayName": "ANGEL ARIAS",
      "userId": "15940696792352955875"
     },
     "user_tz": 300
    },
    "id": "GEWZa08T_inr"
   },
   "outputs": [],
   "source": [
    "def generator(\n",
    "    dir=r\"C:\\Users\\acer.LAPTOP-5D7SPG9D\\Desktop\\Isaac\\YachayTech\\10mo Semestre\\Neuronal Networks\\Project_NN\\dataset_new\",\n",
    "    gen=ImageDataGenerator(rescale=1.0 / 255),\n",
    "    shuffle=True,\n",
    "    batch_size=1,\n",
    "    target_size=(24, 24),\n",
    "    class_mode=\"categorical\",\n",
    "):\n",
    "\n",
    "    return gen.flow_from_directory(\n",
    "        dir,\n",
    "        batch_size=batch_size,\n",
    "        shuffle=shuffle,\n",
    "        color_mode=\"grayscale\",\n",
    "        class_mode=class_mode,\n",
    "        target_size=target_size,\n",
    "    )"
   ]
  },
  {
   "cell_type": "markdown",
   "metadata": {
    "id": "Gh2B7q9P0JsT"
   },
   "source": [
    "# Generador de Imágenes con Aumento de Datos"
   ]
  },
  {
   "cell_type": "code",
   "execution_count": 3,
   "metadata": {
    "executionInfo": {
     "elapsed": 5,
     "status": "ok",
     "timestamp": 1676777576263,
     "user": {
      "displayName": "ANGEL ARIAS",
      "userId": "15940696792352955875"
     },
     "user_tz": 300
    },
    "id": "PNtz3JTlz7Uf"
   },
   "outputs": [],
   "source": [
    "train_datagen = ImageDataGenerator(\n",
    "    rescale=1.0 / 255,\n",
    "    rotation_range=10, # Rango de rotación en grados\n",
    "    zoom_range=0.1, # Rango de zoom aleatorio\n",
    "    width_shift_range=0.1, # Desplazamiento horizontal aleatorio\n",
    "    height_shift_range=0.1, # Desplazamiento vertical aleatorio\n",
    "    shear_range=0.1, # Corte aleatorio\n",
    "    horizontal_flip=True, # Volteo horizontal aleatorio\n",
    "    fill_mode='nearest' # Modo de llenado de píxeles\n",
    "    )"
   ]
  },
  {
   "cell_type": "markdown",
   "metadata": {
    "id": "EbSwByLV1Xsl"
   },
   "source": [
    "# Verificar CUDA para uso de GPU"
   ]
  },
  {
   "cell_type": "code",
   "execution_count": 4,
   "metadata": {
    "colab": {
     "base_uri": "https://localhost:8080/"
    },
    "executionInfo": {
     "elapsed": 11,
     "status": "ok",
     "timestamp": 1676777580939,
     "user": {
      "displayName": "ANGEL ARIAS",
      "userId": "15940696792352955875"
     },
     "user_tz": 300
    },
    "id": "4gCIzJCnLfmy",
    "outputId": "7b51f523-91c9-48ef-8990-4be35615f4d0"
   },
   "outputs": [
    {
     "name": "stdout",
     "output_type": "stream",
     "text": [
      "Num GPUs Available:  1\n",
      "Número de núcleos de CPU disponibles:  12\n"
     ]
    }
   ],
   "source": [
    "import tensorflow as tf\n",
    "print(\"Num GPUs Available: \", len(tf.config.list_physical_devices('GPU')))\n",
    "\n",
    "import multiprocessing\n",
    "print(\"Número de núcleos de CPU disponibles: \", multiprocessing.cpu_count())"
   ]
  },
  {
   "cell_type": "code",
   "execution_count": 5,
   "metadata": {
    "executionInfo": {
     "elapsed": 6,
     "status": "ok",
     "timestamp": 1676777585027,
     "user": {
      "displayName": "ANGEL ARIAS",
      "userId": "15940696792352955875"
     },
     "user_tz": 300
    },
    "id": "NyuGvCYntdlr"
   },
   "outputs": [],
   "source": [
    "def merge_batches(*batches):\n",
    "    merged = []\n",
    "    for batch in batches:\n",
    "        for data in batch:\n",
    "            merged.append(data)\n",
    "    return merged"
   ]
  },
  {
   "cell_type": "markdown",
   "metadata": {
    "id": "NjwhewIb2IOr"
   },
   "source": [
    "# Carga de Imágenes con Aumento de Datos"
   ]
  },
  {
   "cell_type": "code",
   "execution_count": 6,
   "metadata": {
    "colab": {
     "base_uri": "https://localhost:8080/"
    },
    "executionInfo": {
     "elapsed": 4610,
     "status": "ok",
     "timestamp": 1676778997505,
     "user": {
      "displayName": "ANGEL ARIAS",
      "userId": "15940696792352955875"
     },
     "user_tz": 300
    },
    "id": "ylQnHZXL_uA5",
    "outputId": "21e5cc5f-0bfc-4245-9f56-6580b272c422"
   },
   "outputs": [
    {
     "name": "stdout",
     "output_type": "stream",
     "text": [
      "Found 38108 images belonging to 2 classes.\n",
      "Found 218 images belonging to 2 classes.\n",
      "1190 6\n",
      "(32, 24, 24, 1)\n"
     ]
    }
   ],
   "source": [
    "\n",
    "BS = 32\n",
    "TS = (24, 24)\n",
    "\n",
    "# Generar los datos de entrenamiento con Aumento de Datos\n",
    "train_batch = generator(r\"C:\\Users\\acer.LAPTOP-5D7SPG9D\\Desktop\\Isaac\\YachayTech\\10mo Semestre\\Neuronal Networks\\Project_NN\\dataset_new\\train_augmented\", shuffle=True, batch_size=BS, target_size=TS)\n",
    "\n",
    "# Generar los datos de entrenamiento con el nuevo generador de imágenes\n",
    "valid_batch = generator(r\"C:\\Users\\acer.LAPTOP-5D7SPG9D\\Desktop\\Isaac\\YachayTech\\10mo Semestre\\Neuronal Networks\\Project_NN\\dataset_new\\test\", shuffle=True, batch_size=BS, target_size=TS)\n",
    "\n",
    "SPE = len(train_batch.classes) // BS #Paso por épocas (Steps per Epoch)\n",
    "VS = len(valid_batch.classes) // BS #Paso de validación (Validation Step)\n",
    "print(SPE, VS)\n",
    "\n",
    "img, labels = next(train_batch)\n",
    "print(img.shape)\n"
   ]
  },
  {
   "cell_type": "markdown",
   "metadata": {
    "id": "6m8QZcGI3vcR"
   },
   "source": [
    "# Modelo de CNN"
   ]
  },
  {
   "cell_type": "code",
   "execution_count": 7,
   "metadata": {
    "executionInfo": {
     "elapsed": 3593,
     "status": "ok",
     "timestamp": 1676779004670,
     "user": {
      "displayName": "ANGEL ARIAS",
      "userId": "15940696792352955875"
     },
     "user_tz": 300
    },
    "id": "a8xYnVZf1Sfj"
   },
   "outputs": [],
   "source": [
    "cnn_model = Sequential([\n",
    "    Conv2D(32, kernel_size=(3, 3), activation=\"relu\", input_shape=(24, 24, 1)),\n",
    "    BatchNormalization(),\n",
    "    MaxPooling2D(pool_size=(2, 2)),\n",
    "    Conv2D(64, kernel_size=(3, 3), activation=\"relu\"),\n",
    "    BatchNormalization(),\n",
    "    MaxPooling2D(pool_size=(2, 2)),\n",
    "    Conv2D(128, kernel_size=(3, 3), activation=\"relu\"),\n",
    "    BatchNormalization(),\n",
    "    MaxPooling2D(pool_size=(2, 2)),\n",
    "    Flatten(),\n",
    "    Dense(256, activation=\"relu\"),\n",
    "    Dropout(0.5),\n",
    "    Dense(2, activation=\"softmax\")\n",
    "])"
   ]
  },
  {
   "cell_type": "markdown",
   "metadata": {
    "id": "yYPgXySV3zPP"
   },
   "source": [
    "# Compilador de la CNN"
   ]
  },
  {
   "cell_type": "code",
   "execution_count": 8,
   "metadata": {
    "colab": {
     "base_uri": "https://localhost:8080/"
    },
    "executionInfo": {
     "elapsed": 6,
     "status": "ok",
     "timestamp": 1676779004671,
     "user": {
      "displayName": "ANGEL ARIAS",
      "userId": "15940696792352955875"
     },
     "user_tz": 300
    },
    "id": "4f9riPJKaCSp",
    "outputId": "e9946130-74fd-44b8-d809-52f62f0ea3dd"
   },
   "outputs": [
    {
     "name": "stderr",
     "output_type": "stream",
     "text": [
      "C:\\Users\\acer.LAPTOP-5D7SPG9D\\.conda\\envs\\tf_gpu\\lib\\site-packages\\keras\\optimizers\\optimizer_v2\\adam.py:114: UserWarning: The `lr` argument is deprecated, use `learning_rate` instead.\n",
      "  super().__init__(name, **kwargs)\n"
     ]
    }
   ],
   "source": [
    "cnn_model.compile(\n",
    "    optimizer=Adam(lr=0.001),\n",
    "    loss=\"categorical_crossentropy\",\n",
    "    metrics=[\"accuracy\"]\n",
    ")"
   ]
  },
  {
   "cell_type": "markdown",
   "metadata": {
    "id": "NljYvo413kGL"
   },
   "source": [
    "# Agregar EarlyStopping para monitorear la pérdida en el conjunto de validación"
   ]
  },
  {
   "cell_type": "code",
   "execution_count": 9,
   "metadata": {
    "executionInfo": {
     "elapsed": 2,
     "status": "ok",
     "timestamp": 1676779005105,
     "user": {
      "displayName": "ANGEL ARIAS",
      "userId": "15940696792352955875"
     },
     "user_tz": 300
    },
    "id": "WxBqesRL3kp1"
   },
   "outputs": [],
   "source": [
    "early_stop = keras.callbacks.EarlyStopping(\n",
    "    monitor='val_loss', patience=10, restore_best_weights=True)"
   ]
  },
  {
   "cell_type": "markdown",
   "metadata": {
    "id": "YxK75Umh4BBT"
   },
   "source": [
    "# Entrenamiento del modelo"
   ]
  },
  {
   "cell_type": "code",
   "execution_count": 10,
   "metadata": {
    "colab": {
     "base_uri": "https://localhost:8080/"
    },
    "executionInfo": {
     "elapsed": 819922,
     "status": "ok",
     "timestamp": 1676779827759,
     "user": {
      "displayName": "ANGEL ARIAS",
      "userId": "15940696792352955875"
     },
     "user_tz": 300
    },
    "id": "2Y6ypwzJva1b",
    "outputId": "ab5ee30d-6aac-4d1a-e100-c4d2446ff9a7"
   },
   "outputs": [
    {
     "name": "stdout",
     "output_type": "stream",
     "text": [
      "Epoch 1/50\n",
      "1190/1190 [==============================] - 23s 16ms/step - loss: 0.0517 - accuracy: 0.9808 - val_loss: 0.0614 - val_accuracy: 0.9844\n",
      "Epoch 2/50\n",
      "1190/1190 [==============================] - 16s 14ms/step - loss: 0.0142 - accuracy: 0.9947 - val_loss: 0.1189 - val_accuracy: 0.9688\n",
      "Epoch 3/50\n",
      "1190/1190 [==============================] - 17s 14ms/step - loss: 0.0114 - accuracy: 0.9959 - val_loss: 0.0609 - val_accuracy: 0.9896\n",
      "Epoch 4/50\n",
      "1190/1190 [==============================] - 17s 14ms/step - loss: 0.0063 - accuracy: 0.9979 - val_loss: 0.0420 - val_accuracy: 0.9948\n",
      "Epoch 5/50\n",
      "1190/1190 [==============================] - 17s 14ms/step - loss: 0.0074 - accuracy: 0.9976 - val_loss: 0.0357 - val_accuracy: 0.9896\n",
      "Epoch 6/50\n",
      "1190/1190 [==============================] - 16s 14ms/step - loss: 0.0072 - accuracy: 0.9979 - val_loss: 0.0336 - val_accuracy: 0.9896\n",
      "Epoch 7/50\n",
      "1190/1190 [==============================] - 17s 14ms/step - loss: 0.0057 - accuracy: 0.9981 - val_loss: 0.1138 - val_accuracy: 0.9792\n",
      "Epoch 8/50\n",
      "1190/1190 [==============================] - 17s 14ms/step - loss: 0.0030 - accuracy: 0.9991 - val_loss: 0.0736 - val_accuracy: 0.9740\n",
      "Epoch 9/50\n",
      "1190/1190 [==============================] - 17s 14ms/step - loss: 0.0079 - accuracy: 0.9977 - val_loss: 0.0590 - val_accuracy: 0.9896\n",
      "Epoch 10/50\n",
      "1190/1190 [==============================] - 17s 14ms/step - loss: 0.0026 - accuracy: 0.9992 - val_loss: 0.0230 - val_accuracy: 0.9844\n",
      "Epoch 11/50\n",
      "1190/1190 [==============================] - 19s 16ms/step - loss: 0.0033 - accuracy: 0.9991 - val_loss: 0.0311 - val_accuracy: 0.9896\n",
      "Epoch 12/50\n",
      "1190/1190 [==============================] - 16s 14ms/step - loss: 0.0045 - accuracy: 0.9985 - val_loss: 0.0837 - val_accuracy: 0.9844\n",
      "Epoch 13/50\n",
      "1190/1190 [==============================] - 17s 14ms/step - loss: 0.0034 - accuracy: 0.9989 - val_loss: 0.0342 - val_accuracy: 0.9844\n",
      "Epoch 14/50\n",
      "1190/1190 [==============================] - 17s 14ms/step - loss: 0.0038 - accuracy: 0.9989 - val_loss: 0.1202 - val_accuracy: 0.9740\n",
      "Epoch 15/50\n",
      "1190/1190 [==============================] - 17s 15ms/step - loss: 0.0027 - accuracy: 0.9993 - val_loss: 0.2816 - val_accuracy: 0.9635\n",
      "Epoch 16/50\n",
      "1190/1190 [==============================] - 17s 14ms/step - loss: 0.0022 - accuracy: 0.9993 - val_loss: 0.1462 - val_accuracy: 0.9635\n",
      "Epoch 17/50\n",
      "1190/1190 [==============================] - 17s 15ms/step - loss: 0.0026 - accuracy: 0.9990 - val_loss: 0.0931 - val_accuracy: 0.9844\n",
      "Epoch 18/50\n",
      "1190/1190 [==============================] - 17s 14ms/step - loss: 0.0046 - accuracy: 0.9988 - val_loss: 0.0920 - val_accuracy: 0.9740\n",
      "Epoch 19/50\n",
      "1190/1190 [==============================] - 17s 14ms/step - loss: 0.0020 - accuracy: 0.9994 - val_loss: 0.1008 - val_accuracy: 0.9844\n",
      "Epoch 20/50\n",
      "1190/1190 [==============================] - 18s 15ms/step - loss: 0.0025 - accuracy: 0.9995 - val_loss: 0.0350 - val_accuracy: 0.9844\n",
      "Epoch 21/50\n",
      "1190/1190 [==============================] - 17s 14ms/step - loss: 0.0021 - accuracy: 0.9994 - val_loss: 0.0321 - val_accuracy: 0.9948\n",
      "Epoch 22/50\n",
      "1190/1190 [==============================] - 16s 14ms/step - loss: 0.0018 - accuracy: 0.9995 - val_loss: 0.0113 - val_accuracy: 0.9948\n",
      "Epoch 23/50\n",
      "1190/1190 [==============================] - 17s 14ms/step - loss: 0.0042 - accuracy: 0.9991 - val_loss: 0.0075 - val_accuracy: 0.9948\n",
      "Epoch 24/50\n",
      "1190/1190 [==============================] - 16s 14ms/step - loss: 0.0012 - accuracy: 0.9996 - val_loss: 0.0056 - val_accuracy: 0.9948\n",
      "Epoch 25/50\n",
      "1190/1190 [==============================] - 16s 14ms/step - loss: 0.0064 - accuracy: 0.9984 - val_loss: 0.0160 - val_accuracy: 0.9948\n",
      "Epoch 26/50\n",
      "1190/1190 [==============================] - 17s 14ms/step - loss: 9.0588e-04 - accuracy: 0.9997 - val_loss: 0.0111 - val_accuracy: 0.9948\n",
      "Epoch 27/50\n",
      "1190/1190 [==============================] - 18s 15ms/step - loss: 0.0020 - accuracy: 0.9996 - val_loss: 0.0025 - val_accuracy: 1.0000\n",
      "Epoch 28/50\n",
      "1190/1190 [==============================] - 17s 15ms/step - loss: 0.0021 - accuracy: 0.9995 - val_loss: 0.0453 - val_accuracy: 0.9896\n",
      "Epoch 29/50\n",
      "1190/1190 [==============================] - 17s 14ms/step - loss: 0.0032 - accuracy: 0.9991 - val_loss: 0.0647 - val_accuracy: 0.9844\n",
      "Epoch 30/50\n",
      "1190/1190 [==============================] - 17s 14ms/step - loss: 0.0016 - accuracy: 0.9997 - val_loss: 0.1061 - val_accuracy: 0.9844\n",
      "Epoch 31/50\n",
      "1190/1190 [==============================] - 17s 14ms/step - loss: 0.0020 - accuracy: 0.9996 - val_loss: 0.0358 - val_accuracy: 0.9948\n",
      "Epoch 32/50\n",
      "1190/1190 [==============================] - 16s 14ms/step - loss: 0.0016 - accuracy: 0.9996 - val_loss: 0.0241 - val_accuracy: 0.9948\n",
      "Epoch 33/50\n",
      "1190/1190 [==============================] - 16s 14ms/step - loss: 0.0027 - accuracy: 0.9994 - val_loss: 0.0145 - val_accuracy: 0.9948\n",
      "Epoch 34/50\n",
      "1190/1190 [==============================] - 17s 14ms/step - loss: 8.8445e-04 - accuracy: 0.9997 - val_loss: 0.0440 - val_accuracy: 0.9896\n",
      "Epoch 35/50\n",
      "1190/1190 [==============================] - 17s 14ms/step - loss: 4.1540e-04 - accuracy: 0.9999 - val_loss: 0.0490 - val_accuracy: 0.9792\n",
      "Epoch 36/50\n",
      "1190/1190 [==============================] - 16s 14ms/step - loss: 0.0022 - accuracy: 0.9995 - val_loss: 0.0606 - val_accuracy: 0.9948\n",
      "Epoch 37/50\n",
      "1190/1190 [==============================] - 16s 14ms/step - loss: 0.0030 - accuracy: 0.9994 - val_loss: 0.0717 - val_accuracy: 0.9844\n",
      "Epoch 38/50\n",
      "1190/1190 [==============================] - 16s 14ms/step - loss: 0.0018 - accuracy: 0.9995 - val_loss: 0.0183 - val_accuracy: 0.9948\n",
      "Epoch 39/50\n",
      "1190/1190 [==============================] - 16s 14ms/step - loss: 7.3547e-04 - accuracy: 0.9998 - val_loss: 0.0226 - val_accuracy: 0.9948\n",
      "Epoch 40/50\n",
      "1190/1190 [==============================] - 17s 14ms/step - loss: 0.0010 - accuracy: 0.9996 - val_loss: 0.1599 - val_accuracy: 0.9688\n",
      "Epoch 41/50\n",
      "1190/1190 [==============================] - 16s 14ms/step - loss: 0.0042 - accuracy: 0.9991 - val_loss: 0.0338 - val_accuracy: 0.9948\n",
      "Epoch 42/50\n",
      "1190/1190 [==============================] - 16s 14ms/step - loss: 0.0017 - accuracy: 0.9996 - val_loss: 0.0013 - val_accuracy: 1.0000\n",
      "Epoch 43/50\n",
      "1190/1190 [==============================] - 16s 14ms/step - loss: 1.2854e-04 - accuracy: 1.0000 - val_loss: 0.0048 - val_accuracy: 0.9948\n",
      "Epoch 44/50\n",
      "1190/1190 [==============================] - 16s 13ms/step - loss: 7.3584e-04 - accuracy: 0.9998 - val_loss: 0.0062 - val_accuracy: 0.9948\n",
      "Epoch 45/50\n",
      "1190/1190 [==============================] - 17s 14ms/step - loss: 0.0028 - accuracy: 0.9992 - val_loss: 0.0051 - val_accuracy: 0.9948\n",
      "Epoch 46/50\n",
      "1190/1190 [==============================] - 16s 14ms/step - loss: 0.0024 - accuracy: 0.9995 - val_loss: 0.2696 - val_accuracy: 0.9740\n",
      "Epoch 47/50\n",
      "1190/1190 [==============================] - 16s 14ms/step - loss: 0.0019 - accuracy: 0.9995 - val_loss: 0.0388 - val_accuracy: 0.9896\n",
      "Epoch 48/50\n",
      "1190/1190 [==============================] - 16s 13ms/step - loss: 0.0012 - accuracy: 0.9997 - val_loss: 7.3465e-04 - val_accuracy: 1.0000\n",
      "Epoch 49/50\n",
      "1190/1190 [==============================] - 16s 14ms/step - loss: 8.0507e-04 - accuracy: 0.9998 - val_loss: 6.7582e-04 - val_accuracy: 1.0000\n",
      "Epoch 50/50\n",
      "1190/1190 [==============================] - 17s 14ms/step - loss: 8.4973e-04 - accuracy: 0.9996 - val_loss: 2.2790e-04 - val_accuracy: 1.0000\n"
     ]
    }
   ],
   "source": [
    "cnn_model.fit(\n",
    "    train_batch,\n",
    "    validation_data=valid_batch,\n",
    "    epochs=50,\n",
    "    steps_per_epoch=SPE,\n",
    "    validation_steps=VS,\n",
    "    use_multiprocessing=False,\n",
    "    workers=4,\n",
    "    max_queue_size=32,\n",
    "    #callbacks=[early_stop]\n",
    ")\n",
    "\n",
    "#Almecenaje de la Red entrenada\n",
    "cnn_model.save(r\"C:\\Users\\acer.LAPTOP-5D7SPG9D\\Desktop\\Isaac\\YachayTech\\10mo Semestre\\Neuronal Networks\\Project_NN\\models\\cnnDD2.h5\", overwrite=True)"
   ]
  },
  {
   "cell_type": "markdown",
   "metadata": {
    "id": "mNkxngwx6npI"
   },
   "source": [
    "# Métricas \"precision\", \"recall\", \"F1\" y \"accuracy\"\n"
   ]
  },
  {
   "cell_type": "code",
   "execution_count": 3,
   "metadata": {
    "colab": {
     "base_uri": "https://localhost:8080/"
    },
    "executionInfo": {
     "elapsed": 8,
     "status": "ok",
     "timestamp": 1676779827760,
     "user": {
      "displayName": "ANGEL ARIAS",
      "userId": "15940696792352955875"
     },
     "user_tz": 300
    },
    "id": "cXQ6o_O_6zgg",
    "outputId": "6dd9fe94-3548-4672-c7d6-be06b40e6217"
   },
   "outputs": [
    {
     "name": "stdout",
     "output_type": "stream",
     "text": [
      "Found 5950 images belonging to 2 classes.\n",
      "['Closed', 'Open']\n"
     ]
    }
   ],
   "source": [
    "# Extraer los nombres de las clases para el reporte\n",
    "train_generator = generator(r\"C:\\Users\\acer.LAPTOP-5D7SPG9D\\Desktop\\Isaac\\YachayTech\\10mo Semestre\\Neuronal Networks\\Project_NN\\dataset_new\\test_augmented\")\n",
    "num_classes = len(train_generator.class_indices)\n",
    "class_names = [k for k, v in sorted(train_generator.class_indices.items(), key=lambda item: item[1])]\n",
    "print(class_names)"
   ]
  },
  {
   "cell_type": "code",
   "execution_count": 4,
   "metadata": {
    "colab": {
     "base_uri": "https://localhost:8080/"
    },
    "executionInfo": {
     "elapsed": 6,
     "status": "ok",
     "timestamp": 1676779827760,
     "user": {
      "displayName": "ANGEL ARIAS",
      "userId": "15940696792352955875"
     },
     "user_tz": 300
    },
    "id": "zk0BMkk_81UY",
    "outputId": "63b0ca3f-a7f9-4682-ca88-d5511e10683a"
   },
   "outputs": [
    {
     "name": "stdout",
     "output_type": "stream",
     "text": [
      "Found 5950 images belonging to 2 classes.\n"
     ]
    }
   ],
   "source": [
    "# Conjunto de validación separado\n",
    "\n",
    "val_datagen = ImageDataGenerator(rescale=1.0/255)\n",
    "\n",
    "valid_data = val_datagen.flow_from_directory(r\"C:\\Users\\acer.LAPTOP-5D7SPG9D\\Desktop\\Isaac\\YachayTech\\10mo Semestre\\Neuronal Networks\\Project_NN\\dataset_new\\test_augmented\",\n",
    "    target_size=(24, 24),\n",
    "    batch_size=32,\n",
    "    class_mode='categorical',\n",
    "    color_mode='grayscale',\n",
    "    shuffle=False\n",
    ")"
   ]
  },
  {
   "cell_type": "code",
   "execution_count": 5,
   "metadata": {
    "colab": {
     "base_uri": "https://localhost:8080/"
    },
    "executionInfo": {
     "elapsed": 23444,
     "status": "ok",
     "timestamp": 1676779851200,
     "user": {
      "displayName": "ANGEL ARIAS",
      "userId": "15940696792352955875"
     },
     "user_tz": 300
    },
    "id": "w6pS_sI77Be5",
    "outputId": "4621f293-f774-4fd7-94da-ff3c383bcb27"
   },
   "outputs": [
    {
     "name": "stderr",
     "output_type": "stream",
     "text": [
      "C:\\Users\\acer.LAPTOP-5D7SPG9D\\AppData\\Local\\Temp\\ipykernel_30052\\3101641257.py:9: UserWarning: `Model.predict_generator` is deprecated and will be removed in a future version. Please use `Model.predict`, which supports generators.\n",
      "  Y_pred = cnn_model.predict_generator(valid_data, steps=len(valid_data))\n"
     ]
    },
    {
     "name": "stdout",
     "output_type": "stream",
     "text": [
      "Confusion Matrix\n",
      "[[2961   14]\n",
      " [  16 2959]]\n",
      "Classification Report\n",
      "              precision    recall  f1-score   support\n",
      "\n",
      "      Closed       0.99      1.00      0.99      2975\n",
      "        Open       1.00      0.99      0.99      2975\n",
      "\n",
      "    accuracy                           0.99      5950\n",
      "   macro avg       0.99      0.99      0.99      5950\n",
      "weighted avg       0.99      0.99      0.99      5950\n",
      "\n"
     ]
    }
   ],
   "source": [
    "# Predicciones para el conjunto de validación y calcular las métricas\n",
    "from keras.models import load_model\n",
    "from sklearn.metrics import classification_report, confusion_matrix\n",
    "\n",
    "#Carga del modelo entrenado\n",
    "cnn_model = load_model(r\"C:\\Users\\acer.LAPTOP-5D7SPG9D\\Desktop\\Isaac\\YachayTech\\10mo Semestre\\Neuronal Networks\\Project_NN\\models\\cnnDD2.h5\")\n",
    "\n",
    "\n",
    "Y_pred = cnn_model.predict_generator(valid_data, steps=len(valid_data))\n",
    "y_pred = np.argmax(Y_pred, axis=1)\n",
    "print('Confusion Matrix')\n",
    "print(confusion_matrix(valid_data.classes, y_pred))\n",
    "print('Classification Report')\n",
    "target_names = class_names\n",
    "print(classification_report(valid_data.classes, y_pred, target_names=target_names))\n"
   ]
  },
  {
   "cell_type": "markdown",
   "metadata": {
    "id": "UnQEAF8S_uW1"
   },
   "source": [
    "# Gráficas de \"precision\", \"recall\", \"F1\" y \"accuracy\""
   ]
  },
  {
   "cell_type": "code",
   "execution_count": 6,
   "metadata": {
    "colab": {
     "base_uri": "https://localhost:8080/",
     "height": 369
    },
    "executionInfo": {
     "elapsed": 2507,
     "status": "ok",
     "timestamp": 1676779853696,
     "user": {
      "displayName": "ANGEL ARIAS",
      "userId": "15940696792352955875"
     },
     "user_tz": 300
    },
    "id": "iVFrjomz_t2s",
    "outputId": "7e420966-5834-4512-ec56-a3817a50da5f"
   },
   "outputs": [
    {
     "name": "stderr",
     "output_type": "stream",
     "text": [
      "C:\\Users\\acer.LAPTOP-5D7SPG9D\\AppData\\Local\\Temp\\ipykernel_30052\\4108852081.py:4: UserWarning: `Model.predict_generator` is deprecated and will be removed in a future version. Please use `Model.predict`, which supports generators.\n",
      "  Y_pred = cnn_model.predict_generator(valid_data, steps=len(valid_data))\n"
     ]
    },
    {
     "data": {
      "image/png": "[encoded data removed]",
      "text/plain": [
       "<Figure size 2000x500 with 4 Axes>"
      ]
     },
     "metadata": {},
     "output_type": "display_data"
    }
   ],
   "source": [
    "from sklearn.metrics import precision_recall_fscore_support, accuracy_score\n",
    "\n",
    "# Obtener las predicciones y los verdaderos valores\n",
    "Y_pred = cnn_model.predict_generator(valid_data, steps=len(valid_data))\n",
    "y_pred = np.argmax(Y_pred, axis=1)\n",
    "y_true = valid_data.classes\n",
    "\n",
    "# Calcular las métricas\n",
    "precision, recall, f1_score, _ = precision_recall_fscore_support(y_true, y_pred, average=None)\n",
    "accuracy = accuracy_score(y_true, y_pred)\n",
    "\n",
    "# Graficar las métricas\n",
    "fig, ax = plt.subplots(1, 4, figsize=(20, 5))\n",
    "ax[0].bar(class_names, precision)\n",
    "ax[0].set_title('Precision')\n",
    "ax[1].bar(class_names, recall)\n",
    "ax[1].set_title('Recall')\n",
    "ax[2].bar(class_names, f1_score)\n",
    "ax[2].set_title('F1-Score')\n",
    "ax[3].bar(['Accuracy'], [accuracy])\n",
    "ax[3].set_title('Accuracy')\n",
    "plt.show()"
   ]
  },
  {
   "cell_type": "code",
   "execution_count": null,
   "metadata": {},
   "outputs": [],
   "source": []
  }
 ],
 "metadata": {
  "accelerator": "GPU",
  "colab": {
   "authorship_tag": "ABX9TyNhFnvNzCUX/K6t1BNvbSxF",
   "mount_file_id": "1eysE_DLgs2nn5FGIzRhsicq_0YzT6hWK",
   "provenance": []
  },
  "gpuClass": "standard",
  "kernelspec": {
   "display_name": "Python 3 (ipykernel)",
   "language": "python",
   "name": "python3"
  },
  "language_info": {
   "codemirror_mode": {
    "name": "ipython",
    "version": 3
   },
   "file_extension": ".py",
   "mimetype": "text/x-python",
   "name": "python",
   "nbconvert_exporter": "python",
   "pygments_lexer": "ipython3",
   "version": "3.9.16"
  }
 },
 "nbformat": 4,
 "nbformat_minor": 1
}
