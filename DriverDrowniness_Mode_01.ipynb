{
 "cells": [
  {
   "cell_type": "markdown",
   "metadata": {
    "id": "9KqjYRJZY7RM"
   },
   "source": [
    "# Importación de Librerías Necesarias"
   ]
  },
  {
   "cell_type": "code",
   "execution_count": 1,
   "metadata": {
    "executionInfo": {
     "elapsed": 2455,
     "status": "ok",
     "timestamp": 1676774475428,
     "user": {
      "displayName": "ANGEL ARIAS",
      "userId": "15940696792352955875"
     },
     "user_tz": 300
    },
    "id": "qodc2Cfa_XSz"
   },
   "outputs": [],
   "source": [
    "# CNN\n",
    "import os\n",
    "import keras\n",
    "import scipy\n",
    "from keras.preprocessing import image\n",
    "import matplotlib.pyplot as plt\n",
    "import numpy as np\n",
    "from keras.utils.np_utils import to_categorical\n",
    "import random, shutil\n",
    "from keras.models import Sequential\n",
    "from keras.layers import (\n",
    "    Dropout,\n",
    "    Conv2D,\n",
    "    Flatten,\n",
    "    Dense,\n",
    "    MaxPooling2D,\n",
    "    BatchNormalization,\n",
    ")\n",
    "from keras.models import load_model\n",
    "from keras.optimizers import Adam\n",
    "from keras.preprocessing.image import ImageDataGenerator\n",
    "import keras.utils as image\n",
    "from PIL import Image\n"
   ]
  },
  {
   "cell_type": "markdown",
   "metadata": {
    "id": "k1R7vTRKY8zz"
   },
   "source": [
    "# Generador de imágenes Normal"
   ]
  },
  {
   "cell_type": "code",
   "execution_count": 2,
   "metadata": {
    "executionInfo": {
     "elapsed": 9,
     "status": "ok",
     "timestamp": 1676774475431,
     "user": {
      "displayName": "ANGEL ARIAS",
      "userId": "15940696792352955875"
     },
     "user_tz": 300
    },
    "id": "GEWZa08T_inr"
   },
   "outputs": [],
   "source": [
    "def generator(\n",
    "    dir=r\"C:\\Users\\acer.LAPTOP-5D7SPG9D\\Desktop\\Isaac\\YachayTech\\10mo Semestre\\Neuronal Networks\\Project_NN\\dataset_new\",\n",
    "    gen=ImageDataGenerator(rescale=1.0 / 255),\n",
    "    shuffle=True,\n",
    "    batch_size=1,\n",
    "    target_size=(24, 24),\n",
    "    class_mode=\"categorical\",\n",
    "):\n",
    "\n",
    "    return gen.flow_from_directory(\n",
    "        dir,\n",
    "        batch_size=batch_size,\n",
    "        shuffle=shuffle,\n",
    "        color_mode=\"grayscale\",\n",
    "        class_mode=class_mode,\n",
    "        target_size=target_size,\n",
    "    )"
   ]
  },
  {
   "cell_type": "markdown",
   "metadata": {
    "id": "ZfAps1JCZCwJ"
   },
   "source": [
    "# Verificar CUDA para uso de GPU"
   ]
  },
  {
   "cell_type": "code",
   "execution_count": 3,
   "metadata": {
    "colab": {
     "base_uri": "https://localhost:8080/"
    },
    "executionInfo": {
     "elapsed": 609,
     "status": "ok",
     "timestamp": 1676774476033,
     "user": {
      "displayName": "ANGEL ARIAS",
      "userId": "15940696792352955875"
     },
     "user_tz": 300
    },
    "id": "4gCIzJCnLfmy",
    "outputId": "2aa8086f-ddec-48b4-c9c6-2b23d180bac7"
   },
   "outputs": [
    {
     "name": "stdout",
     "output_type": "stream",
     "text": [
      "Num GPUs Available:  1\n",
      "Número de núcleos de CPU disponibles:  12\n"
     ]
    }
   ],
   "source": [
    "import tensorflow as tf\n",
    "print(\"Num GPUs Available: \", len(tf.config.list_physical_devices('GPU')))\n",
    "\n",
    "import multiprocessing\n",
    "print(\"Número de núcleos de CPU disponibles: \", multiprocessing.cpu_count())"
   ]
  },
  {
   "cell_type": "markdown",
   "metadata": {
    "id": "lY3AFDPtZFPZ"
   },
   "source": [
    "# Carga de Imágenes"
   ]
  },
  {
   "cell_type": "code",
   "execution_count": 4,
   "metadata": {
    "colab": {
     "base_uri": "https://localhost:8080/"
    },
    "executionInfo": {
     "elapsed": 33328,
     "status": "ok",
     "timestamp": 1676774509352,
     "user": {
      "displayName": "ANGEL ARIAS",
      "userId": "15940696792352955875"
     },
     "user_tz": 300
    },
    "id": "ylQnHZXL_uA5",
    "outputId": "99c478c3-4d47-477a-dcb3-fbbd322f8d0c"
   },
   "outputs": [
    {
     "name": "stdout",
     "output_type": "stream",
     "text": [
      "Found 1234 images belonging to 2 classes.\n",
      "Found 218 images belonging to 2 classes.\n",
      "38 6\n",
      "(32, 24, 24, 1)\n"
     ]
    }
   ],
   "source": [
    "BS = 32\n",
    "TS = (24, 24)\n",
    "\n",
    "# Generar los datos de entrenamiento con Generador Normal\n",
    "train_batch = generator(r\"C:\\Users\\acer.LAPTOP-5D7SPG9D\\Desktop\\Isaac\\YachayTech\\10mo Semestre\\Neuronal Networks\\Project_NN\\dataset_new\\train\", shuffle=True, batch_size=BS, target_size=TS)\n",
    "\n",
    "# Generar los datos de entrenamiento con Generador Normal\n",
    "valid_batch = generator(r\"C:\\Users\\acer.LAPTOP-5D7SPG9D\\Desktop\\Isaac\\YachayTech\\10mo Semestre\\Neuronal Networks\\Project_NN\\dataset_new\\test\", shuffle=True, batch_size=BS, target_size=TS)\n",
    "\n",
    "SPE = len(train_batch.classes) // BS #Paso por épocas (Steps per Epoch)\n",
    "VS = len(valid_batch.classes) // BS #Paso de validación (Validation Step)\n",
    "print(SPE, VS)\n",
    "\n",
    "img, labels = next(train_batch)\n",
    "print(img.shape)\n"
   ]
  },
  {
   "cell_type": "markdown",
   "metadata": {
    "id": "A1247ti4ZNpU"
   },
   "source": [
    "# Modelo de CNN"
   ]
  },
  {
   "cell_type": "code",
   "execution_count": 5,
   "metadata": {
    "executionInfo": {
     "elapsed": 2335,
     "status": "ok",
     "timestamp": 1676774511675,
     "user": {
      "displayName": "ANGEL ARIAS",
      "userId": "15940696792352955875"
     },
     "user_tz": 300
    },
    "id": "sbbw6S_wZOP4"
   },
   "outputs": [],
   "source": [
    "cnn_model = Sequential(\n",
    "    [\n",
    "        Conv2D(32, kernel_size=(3, 3), activation=\"relu\", input_shape=(24, 24, 1)),\n",
    "        MaxPooling2D(pool_size=(1, 1)),\n",
    "        Conv2D(32, (3, 3), activation=\"relu\"),\n",
    "        MaxPooling2D(pool_size=(1, 1)),\n",
    "        Conv2D(64, (3, 3), activation=\"relu\"),\n",
    "        MaxPooling2D(pool_size=(1, 1)),\n",
    "        Dropout(0.25),\n",
    "        Flatten(),\n",
    "        Dense(128, activation=\"relu\"),\n",
    "        Dropout(0.5),\n",
    "        Dense(2, activation=\"softmax\"),\n",
    "    ]\n",
    ")"
   ]
  },
  {
   "cell_type": "markdown",
   "metadata": {
    "id": "07CtA0v0ZYlT"
   },
   "source": [
    "# Compilador de la CNN"
   ]
  },
  {
   "cell_type": "code",
   "execution_count": 6,
   "metadata": {
    "executionInfo": {
     "elapsed": 29,
     "status": "ok",
     "timestamp": 1676774511677,
     "user": {
      "displayName": "ANGEL ARIAS",
      "userId": "15940696792352955875"
     },
     "user_tz": 300
    },
    "id": "2D8q72qyZY7q"
   },
   "outputs": [],
   "source": [
    "cnn_model.compile(\n",
    "    optimizer=\"adam\", loss=\"categorical_crossentropy\", metrics=[\"accuracy\"]\n",
    ")"
   ]
  },
  {
   "cell_type": "markdown",
   "metadata": {
    "id": "dttQKcDgZcgN"
   },
   "source": [
    "# Entrenamiento del modelo"
   ]
  },
  {
   "cell_type": "code",
   "execution_count": 7,
   "metadata": {
    "colab": {
     "base_uri": "https://localhost:8080/"
    },
    "executionInfo": {
     "elapsed": 1861028,
     "status": "ok",
     "timestamp": 1676776372678,
     "user": {
      "displayName": "ANGEL ARIAS",
      "userId": "15940696792352955875"
     },
     "user_tz": 300
    },
    "id": "L6PqyZYyZc1Q",
    "outputId": "36ce24ef-c362-404e-9d66-033d8a6be644",
    "scrolled": false
   },
   "outputs": [
    {
     "name": "stdout",
     "output_type": "stream",
     "text": [
      "Epoch 1/50\n",
      "38/38 [==============================] - 4s 28ms/step - loss: 0.4699 - accuracy: 0.7912 - val_loss: 0.2327 - val_accuracy: 0.8906\n",
      "Epoch 2/50\n",
      "38/38 [==============================] - 1s 32ms/step - loss: 0.2226 - accuracy: 0.9210 - val_loss: 0.1675 - val_accuracy: 0.9271\n",
      "Epoch 3/50\n",
      "38/38 [==============================] - 1s 30ms/step - loss: 0.1444 - accuracy: 0.9476 - val_loss: 0.1405 - val_accuracy: 0.9479\n",
      "Epoch 4/50\n",
      "38/38 [==============================] - 1s 32ms/step - loss: 0.1139 - accuracy: 0.9551 - val_loss: 0.1162 - val_accuracy: 0.9427\n",
      "Epoch 5/50\n",
      "38/38 [==============================] - 1s 33ms/step - loss: 0.1023 - accuracy: 0.9676 - val_loss: 0.1347 - val_accuracy: 0.9479\n",
      "Epoch 6/50\n",
      "38/38 [==============================] - 1s 31ms/step - loss: 0.0803 - accuracy: 0.9659 - val_loss: 0.1231 - val_accuracy: 0.9531\n",
      "Epoch 7/50\n",
      "38/38 [==============================] - 1s 32ms/step - loss: 0.0953 - accuracy: 0.9659 - val_loss: 0.1610 - val_accuracy: 0.9323\n",
      "Epoch 8/50\n",
      "38/38 [==============================] - 1s 30ms/step - loss: 0.0762 - accuracy: 0.9759 - val_loss: 0.1220 - val_accuracy: 0.9479\n",
      "Epoch 9/50\n",
      "38/38 [==============================] - 1s 31ms/step - loss: 0.0465 - accuracy: 0.9834 - val_loss: 0.1641 - val_accuracy: 0.9531\n",
      "Epoch 10/50\n",
      "38/38 [==============================] - 1s 31ms/step - loss: 0.0728 - accuracy: 0.9717 - val_loss: 0.1008 - val_accuracy: 0.9688\n",
      "Epoch 11/50\n",
      "38/38 [==============================] - 1s 32ms/step - loss: 0.0391 - accuracy: 0.9850 - val_loss: 0.0806 - val_accuracy: 0.9740\n",
      "Epoch 12/50\n",
      "38/38 [==============================] - 1s 32ms/step - loss: 0.0387 - accuracy: 0.9844 - val_loss: 0.1205 - val_accuracy: 0.9583\n",
      "Epoch 13/50\n",
      "38/38 [==============================] - 1s 30ms/step - loss: 0.0304 - accuracy: 0.9925 - val_loss: 0.1106 - val_accuracy: 0.9688\n",
      "Epoch 14/50\n",
      "38/38 [==============================] - 1s 31ms/step - loss: 0.0166 - accuracy: 0.9942 - val_loss: 0.0743 - val_accuracy: 0.9740\n",
      "Epoch 15/50\n",
      "38/38 [==============================] - 1s 35ms/step - loss: 0.0202 - accuracy: 0.9933 - val_loss: 0.1093 - val_accuracy: 0.9688\n",
      "Epoch 16/50\n",
      "38/38 [==============================] - 1s 32ms/step - loss: 0.0114 - accuracy: 0.9967 - val_loss: 0.0781 - val_accuracy: 0.9792\n",
      "Epoch 17/50\n",
      "38/38 [==============================] - 1s 33ms/step - loss: 0.0094 - accuracy: 0.9967 - val_loss: 0.0886 - val_accuracy: 0.9740\n",
      "Epoch 18/50\n",
      "38/38 [==============================] - 1s 31ms/step - loss: 0.0130 - accuracy: 0.9959 - val_loss: 0.1576 - val_accuracy: 0.9479\n",
      "Epoch 19/50\n",
      "38/38 [==============================] - 1s 31ms/step - loss: 0.0097 - accuracy: 0.9967 - val_loss: 0.1211 - val_accuracy: 0.9688\n",
      "Epoch 20/50\n",
      "38/38 [==============================] - 1s 31ms/step - loss: 0.0190 - accuracy: 0.9892 - val_loss: 0.1025 - val_accuracy: 0.9688\n",
      "Epoch 21/50\n",
      "38/38 [==============================] - 1s 31ms/step - loss: 0.0277 - accuracy: 0.9900 - val_loss: 0.1106 - val_accuracy: 0.9635\n",
      "Epoch 22/50\n",
      "38/38 [==============================] - 1s 32ms/step - loss: 0.0066 - accuracy: 0.9992 - val_loss: 0.0933 - val_accuracy: 0.9688\n",
      "Epoch 23/50\n",
      "38/38 [==============================] - 1s 31ms/step - loss: 0.0028 - accuracy: 1.0000 - val_loss: 0.1258 - val_accuracy: 0.9635\n",
      "Epoch 24/50\n",
      "38/38 [==============================] - 1s 33ms/step - loss: 0.0018 - accuracy: 1.0000 - val_loss: 0.1069 - val_accuracy: 0.9740\n",
      "Epoch 25/50\n",
      "38/38 [==============================] - 1s 32ms/step - loss: 0.0015 - accuracy: 1.0000 - val_loss: 0.1462 - val_accuracy: 0.9635\n",
      "Epoch 26/50\n",
      "38/38 [==============================] - 1s 31ms/step - loss: 0.0011 - accuracy: 1.0000 - val_loss: 0.1403 - val_accuracy: 0.9688\n",
      "Epoch 27/50\n",
      "38/38 [==============================] - 1s 33ms/step - loss: 0.0016 - accuracy: 1.0000 - val_loss: 0.0970 - val_accuracy: 0.9740\n",
      "Epoch 28/50\n",
      "38/38 [==============================] - 1s 32ms/step - loss: 0.0016 - accuracy: 1.0000 - val_loss: 0.1397 - val_accuracy: 0.9635\n",
      "Epoch 29/50\n",
      "38/38 [==============================] - 1s 35ms/step - loss: 0.0015 - accuracy: 1.0000 - val_loss: 0.1180 - val_accuracy: 0.9688\n",
      "Epoch 30/50\n",
      "38/38 [==============================] - 1s 36ms/step - loss: 0.0017 - accuracy: 0.9992 - val_loss: 0.1558 - val_accuracy: 0.9688\n",
      "Epoch 31/50\n",
      "38/38 [==============================] - 1s 35ms/step - loss: 9.0640e-04 - accuracy: 1.0000 - val_loss: 0.1835 - val_accuracy: 0.9531\n",
      "Epoch 32/50\n",
      "38/38 [==============================] - 2s 37ms/step - loss: 0.0601 - accuracy: 0.9859 - val_loss: 0.1661 - val_accuracy: 0.9531\n",
      "Epoch 33/50\n",
      "38/38 [==============================] - 1s 34ms/step - loss: 0.0330 - accuracy: 0.9892 - val_loss: 0.1576 - val_accuracy: 0.9479\n",
      "Epoch 34/50\n",
      "38/38 [==============================] - 2s 41ms/step - loss: 0.0063 - accuracy: 1.0000 - val_loss: 0.1076 - val_accuracy: 0.9688\n",
      "Epoch 35/50\n",
      "38/38 [==============================] - 2s 41ms/step - loss: 0.0077 - accuracy: 0.9967 - val_loss: 0.1679 - val_accuracy: 0.9635\n",
      "Epoch 36/50\n",
      "38/38 [==============================] - 2s 40ms/step - loss: 0.0059 - accuracy: 1.0000 - val_loss: 0.0851 - val_accuracy: 0.9792\n",
      "Epoch 37/50\n",
      "38/38 [==============================] - 2s 40ms/step - loss: 0.0020 - accuracy: 1.0000 - val_loss: 0.1230 - val_accuracy: 0.9531\n",
      "Epoch 38/50\n",
      "38/38 [==============================] - 2s 39ms/step - loss: 0.0010 - accuracy: 1.0000 - val_loss: 0.0935 - val_accuracy: 0.9740\n",
      "Epoch 39/50\n",
      "38/38 [==============================] - 2s 40ms/step - loss: 8.0728e-04 - accuracy: 1.0000 - val_loss: 0.1764 - val_accuracy: 0.9479\n",
      "Epoch 40/50\n",
      "38/38 [==============================] - 1s 35ms/step - loss: 0.0055 - accuracy: 0.9992 - val_loss: 0.0955 - val_accuracy: 0.9740\n",
      "Epoch 41/50\n",
      "38/38 [==============================] - 1s 37ms/step - loss: 0.0018 - accuracy: 0.9992 - val_loss: 0.1570 - val_accuracy: 0.9688\n",
      "Epoch 42/50\n",
      "38/38 [==============================] - 1s 33ms/step - loss: 0.0143 - accuracy: 0.9967 - val_loss: 0.1496 - val_accuracy: 0.9635\n",
      "Epoch 43/50\n",
      "38/38 [==============================] - 1s 36ms/step - loss: 0.0166 - accuracy: 0.9942 - val_loss: 0.0935 - val_accuracy: 0.9479\n",
      "Epoch 44/50\n",
      "38/38 [==============================] - 1s 32ms/step - loss: 0.0051 - accuracy: 1.0000 - val_loss: 0.1309 - val_accuracy: 0.9688\n",
      "Epoch 45/50\n",
      "38/38 [==============================] - 1s 31ms/step - loss: 0.0043 - accuracy: 0.9992 - val_loss: 0.1234 - val_accuracy: 0.9635\n",
      "Epoch 46/50\n",
      "38/38 [==============================] - 1s 32ms/step - loss: 0.0056 - accuracy: 0.9983 - val_loss: 0.1155 - val_accuracy: 0.9688\n",
      "Epoch 47/50\n",
      "38/38 [==============================] - 1s 33ms/step - loss: 0.0024 - accuracy: 0.9992 - val_loss: 0.0870 - val_accuracy: 0.9740\n",
      "Epoch 48/50\n",
      "38/38 [==============================] - 1s 36ms/step - loss: 0.0058 - accuracy: 0.9983 - val_loss: 0.1124 - val_accuracy: 0.9688\n",
      "Epoch 49/50\n",
      "38/38 [==============================] - 1s 32ms/step - loss: 0.0022 - accuracy: 0.9992 - val_loss: 0.1376 - val_accuracy: 0.9688\n",
      "Epoch 50/50\n",
      "38/38 [==============================] - 1s 33ms/step - loss: 0.0013 - accuracy: 1.0000 - val_loss: 0.1391 - val_accuracy: 0.9635\n"
     ]
    }
   ],
   "source": [
    "cnn_model.fit(\n",
    "    train_batch,\n",
    "    validation_data=valid_batch,\n",
    "    epochs=50,\n",
    "    steps_per_epoch=SPE,\n",
    "    validation_steps=VS,\n",
    "    use_multiprocessing=False,\n",
    "    workers=4,\n",
    "    max_queue_size=32\n",
    ")\n",
    "cnn_model.save(r\"C:\\Users\\acer.LAPTOP-5D7SPG9D\\Desktop\\Isaac\\YachayTech\\10mo Semestre\\Neuronal Networks\\Project_NN\\models\\cnnDD1.h5\", overwrite=True)"
   ]
  },
  {
   "cell_type": "markdown",
   "metadata": {
    "id": "Ekq2wSI0YW4F"
   },
   "source": [
    "# Métricas \"precision\", \"recall\", \"F1\" y \"accuracy\""
   ]
  },
  {
   "cell_type": "code",
   "execution_count": 3,
   "metadata": {
    "colab": {
     "base_uri": "https://localhost:8080/"
    },
    "executionInfo": {
     "elapsed": 13,
     "status": "ok",
     "timestamp": 1676776372679,
     "user": {
      "displayName": "ANGEL ARIAS",
      "userId": "15940696792352955875"
     },
     "user_tz": 300
    },
    "id": "kXOeQIkmYXpS",
    "outputId": "8cd55b41-2906-4e1c-ca63-131113f10c00"
   },
   "outputs": [
    {
     "name": "stdout",
     "output_type": "stream",
     "text": [
      "Found 5950 images belonging to 2 classes.\n",
      "['Closed', 'Open']\n"
     ]
    }
   ],
   "source": [
    "# Extraer los nombres de las clases para el reporte\n",
    "train_generator = generator(r\"C:\\Users\\acer.LAPTOP-5D7SPG9D\\Desktop\\Isaac\\YachayTech\\10mo Semestre\\Neuronal Networks\\Project_NN\\dataset_new\\test_augmented\")\n",
    "num_classes = len(train_generator.class_indices)\n",
    "class_names = [k for k, v in sorted(train_generator.class_indices.items(), key=lambda item: item[1])]\n",
    "print(class_names)"
   ]
  },
  {
   "cell_type": "code",
   "execution_count": 4,
   "metadata": {
    "colab": {
     "base_uri": "https://localhost:8080/"
    },
    "executionInfo": {
     "elapsed": 11,
     "status": "ok",
     "timestamp": 1676776372680,
     "user": {
      "displayName": "ANGEL ARIAS",
      "userId": "15940696792352955875"
     },
     "user_tz": 300
    },
    "id": "ZMnCnT4LYaXZ",
    "outputId": "79cfa288-5038-41ab-bb24-cdb1db8b30f7"
   },
   "outputs": [
    {
     "name": "stdout",
     "output_type": "stream",
     "text": [
      "Found 5950 images belonging to 2 classes.\n"
     ]
    }
   ],
   "source": [
    "# Conjunto de validación separado\n",
    "\n",
    "val_datagen = ImageDataGenerator(rescale=1.0/255)\n",
    "\n",
    "valid_data = val_datagen.flow_from_directory(r\"C:\\Users\\acer.LAPTOP-5D7SPG9D\\Desktop\\Isaac\\YachayTech\\10mo Semestre\\Neuronal Networks\\Project_NN\\dataset_new\\test_augmented\",\n",
    "    target_size=(24, 24),\n",
    "    batch_size=32,\n",
    "    class_mode='categorical',\n",
    "    color_mode='grayscale',\n",
    "    shuffle=False\n",
    ")"
   ]
  },
  {
   "cell_type": "code",
   "execution_count": 5,
   "metadata": {
    "colab": {
     "base_uri": "https://localhost:8080/"
    },
    "executionInfo": {
     "elapsed": 4222,
     "status": "ok",
     "timestamp": 1676776376894,
     "user": {
      "displayName": "ANGEL ARIAS",
      "userId": "15940696792352955875"
     },
     "user_tz": 300
    },
    "id": "E-n8OSjuYc4U",
    "outputId": "b67832c4-3ee6-41bf-a305-3ac7614ec169"
   },
   "outputs": [
    {
     "name": "stderr",
     "output_type": "stream",
     "text": [
      "C:\\Users\\acer.LAPTOP-5D7SPG9D\\AppData\\Local\\Temp\\ipykernel_1248\\1075686003.py:9: UserWarning: `Model.predict_generator` is deprecated and will be removed in a future version. Please use `Model.predict`, which supports generators.\n",
      "  Y_pred = cnn_model.predict_generator(valid_data, steps=len(valid_data))\n"
     ]
    },
    {
     "name": "stdout",
     "output_type": "stream",
     "text": [
      "Confusion Matrix\n",
      "[[2799  176]\n",
      " [ 223 2752]]\n",
      "Classification Report\n",
      "              precision    recall  f1-score   support\n",
      "\n",
      "      Closed       0.93      0.94      0.93      2975\n",
      "        Open       0.94      0.93      0.93      2975\n",
      "\n",
      "    accuracy                           0.93      5950\n",
      "   macro avg       0.93      0.93      0.93      5950\n",
      "weighted avg       0.93      0.93      0.93      5950\n",
      "\n"
     ]
    }
   ],
   "source": [
    "# Predicciones para el conjunto de validación y calcular las métricas\n",
    "from keras.models import load_model\n",
    "from sklearn.metrics import classification_report, confusion_matrix\n",
    "\n",
    "#Carga del modelo entrenado\n",
    "cnn_model = load_model(r\"C:\\Users\\acer.LAPTOP-5D7SPG9D\\Desktop\\Isaac\\YachayTech\\10mo Semestre\\Neuronal Networks\\Project_NN\\models\\cnnDD1.h5\")\n",
    "\n",
    "\n",
    "Y_pred = cnn_model.predict_generator(valid_data, steps=len(valid_data))\n",
    "y_pred = np.argmax(Y_pred, axis=1)\n",
    "print('Confusion Matrix')\n",
    "print(confusion_matrix(valid_data.classes, y_pred))\n",
    "print('Classification Report')\n",
    "target_names = class_names\n",
    "print(classification_report(valid_data.classes, y_pred, target_names=target_names))"
   ]
  },
  {
   "cell_type": "markdown",
   "metadata": {
    "id": "dcalvXOAYhJx"
   },
   "source": [
    "# Gráficas de \"precision\", \"recall\", \"F1\" y \"accuracy\""
   ]
  },
  {
   "cell_type": "code",
   "execution_count": 12,
   "metadata": {
    "colab": {
     "base_uri": "https://localhost:8080/",
     "height": 391
    },
    "executionInfo": {
     "elapsed": 2568,
     "status": "ok",
     "timestamp": 1676776379429,
     "user": {
      "displayName": "ANGEL ARIAS",
      "userId": "15940696792352955875"
     },
     "user_tz": 300
    },
    "id": "RahjGdnJYg2g",
    "outputId": "97290d47-aa78-42be-b924-aef1b7a2593b"
   },
   "outputs": [
    {
     "name": "stderr",
     "output_type": "stream",
     "text": [
      "C:\\Users\\acer.LAPTOP-5D7SPG9D\\AppData\\Local\\Temp\\ipykernel_8752\\4108852081.py:4: UserWarning: `Model.predict_generator` is deprecated and will be removed in a future version. Please use `Model.predict`, which supports generators.\n",
      "  Y_pred = cnn_model.predict_generator(valid_data, steps=len(valid_data))\n"
     ]
    },
    {
     "data": {
      "image/png": "[encoded data removed]",
      "text/plain": [
       "<Figure size 2000x500 with 4 Axes>"
      ]
     },
     "metadata": {},
     "output_type": "display_data"
    }
   ],
   "source": [
    "from sklearn.metrics import precision_recall_fscore_support, accuracy_score\n",
    "\n",
    "# Obtener las predicciones y los verdaderos valores\n",
    "Y_pred = cnn_model.predict_generator(valid_data, steps=len(valid_data))\n",
    "y_pred = np.argmax(Y_pred, axis=1)\n",
    "y_true = valid_data.classes\n",
    "\n",
    "# Calcular las métricas\n",
    "precision, recall, f1_score, _ = precision_recall_fscore_support(y_true, y_pred, average=None)\n",
    "accuracy = accuracy_score(y_true, y_pred)\n",
    "\n",
    "# Graficar las métricas\n",
    "fig, ax = plt.subplots(1, 4, figsize=(20, 5))\n",
    "ax[0].bar(class_names, precision)\n",
    "ax[0].set_title('Precision')\n",
    "ax[1].bar(class_names, recall)\n",
    "ax[1].set_title('Recall')\n",
    "ax[2].bar(class_names, f1_score)\n",
    "ax[2].set_title('F1-Score')\n",
    "ax[3].bar(['Accuracy'], [accuracy])\n",
    "ax[3].set_title('Accuracy')\n",
    "plt.show()"
   ]
  },
  {
   "cell_type": "code",
   "execution_count": null,
   "metadata": {},
   "outputs": [],
   "source": []
  }
 ],
 "metadata": {
  "accelerator": "GPU",
  "colab": {
   "authorship_tag": "ABX9TyNl1E/9uvN2c+kKy6k6r3IQ",
   "mount_file_id": "1X3L_d1WBBdA8qsJYJv_ZOZc9POTeGMmS",
   "provenance": []
  },
  "gpuClass": "standard",
  "kernelspec": {
   "display_name": "Python 3 (ipykernel)",
   "language": "python",
   "name": "python3"
  },
  "language_info": {
   "codemirror_mode": {
    "name": "ipython",
    "version": 3
   },
   "file_extension": ".py",
   "mimetype": "text/x-python",
   "name": "python",
   "nbconvert_exporter": "python",
   "pygments_lexer": "ipython3",
   "version": "3.9.16"
  }
 },
 "nbformat": 4,
 "nbformat_minor": 1
}
