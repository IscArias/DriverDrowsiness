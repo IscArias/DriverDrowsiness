{
 "cells": [
  {
   "cell_type": "markdown",
   "metadata": {
    "id": "KFwOnqCr3nt4"
   },
   "source": [
    "# Importación de Librerías Necesarias"
   ]
  },
  {
   "cell_type": "code",
   "execution_count": 1,
   "metadata": {
    "id": "qodc2Cfa_XSz"
   },
   "outputs": [],
   "source": [
    "# CNN\n",
    "import os\n",
    "import keras\n",
    "import scipy\n",
    "from keras.preprocessing import image\n",
    "import matplotlib.pyplot as plt\n",
    "import numpy as np\n",
    "from keras.utils.np_utils import to_categorical\n",
    "import random, shutil\n",
    "from keras.models import Sequential\n",
    "from keras.layers import (\n",
    "    Dropout,\n",
    "    Conv2D,\n",
    "    Flatten,\n",
    "    Dense,\n",
    "    MaxPooling2D,\n",
    "    BatchNormalization,\n",
    ")\n",
    "from keras.models import load_model\n",
    "from keras.optimizers import Adam\n",
    "from keras.preprocessing.image import ImageDataGenerator\n",
    "import keras.utils as image\n",
    "from PIL import Image\n"
   ]
  },
  {
   "cell_type": "markdown",
   "metadata": {
    "id": "ACBJgbWzz8SR"
   },
   "source": [
    "# Generador de imágenes para Validación"
   ]
  },
  {
   "cell_type": "code",
   "execution_count": 3,
   "metadata": {
    "id": "GEWZa08T_inr"
   },
   "outputs": [],
   "source": [
    "def generator(\n",
    "    dir=r\"C:\\Users\\acer.LAPTOP-5D7SPG9D\\Desktop\\Isaac\\YachayTech\\10mo Semestre\\Neuronal Networks\\Project_NN\\dataset_new\",\n",
    "    gen=ImageDataGenerator(rescale=1.0 / 255),\n",
    "    shuffle=True,\n",
    "    batch_size=1,\n",
    "    target_size=(24, 24),\n",
    "    class_mode=\"categorical\",\n",
    "):\n",
    "\n",
    "    return gen.flow_from_directory(\n",
    "        dir,\n",
    "        batch_size=batch_size,\n",
    "        shuffle=shuffle,\n",
    "        color_mode=\"grayscale\",\n",
    "        class_mode=class_mode,\n",
    "        target_size=target_size,\n",
    "    )"
   ]
  },
  {
   "cell_type": "markdown",
   "metadata": {
    "id": "Gh2B7q9P0JsT"
   },
   "source": [
    "# Generador de Imágenes con Aumento de Datos (Entrenamiento)"
   ]
  },
  {
   "cell_type": "code",
   "execution_count": 2,
   "metadata": {
    "id": "PNtz3JTlz7Uf"
   },
   "outputs": [],
   "source": [
    "train_datagen = ImageDataGenerator(\n",
    "    rescale=1.0 / 255,\n",
    "    rotation_range=10, # Rango de rotación en grados\n",
    "    zoom_range=0.1, # Rango de zoom aleatorio\n",
    "    width_shift_range=0.1, # Desplazamiento horizontal aleatorio\n",
    "    height_shift_range=0.1, # Desplazamiento vertical aleatorio\n",
    "    shear_range=0.1, # Corte aleatorio\n",
    "    horizontal_flip=True, # Volteo horizontal aleatorio\n",
    "    fill_mode='nearest' # Modo de llenado de píxeles\n",
    "    )"
   ]
  },
  {
   "cell_type": "markdown",
   "metadata": {
    "id": "EbSwByLV1Xsl"
   },
   "source": [
    "# Verificar CUDA para uso de GPU"
   ]
  },
  {
   "cell_type": "code",
   "execution_count": 4,
   "metadata": {
    "colab": {
     "base_uri": "https://localhost:8080/"
    },
    "executionInfo": {
     "elapsed": 284,
     "status": "ok",
     "timestamp": 1676792757878,
     "user": {
      "displayName": "ANGEL ARIAS",
      "userId": "15940696792352955875"
     },
     "user_tz": 300
    },
    "id": "4gCIzJCnLfmy",
    "outputId": "be74e013-a92e-4799-c48d-656de5e90b67"
   },
   "outputs": [
    {
     "name": "stdout",
     "output_type": "stream",
     "text": [
      "Num GPUs Available:  1\n",
      "Número de núcleos de CPU disponibles:  12\n"
     ]
    }
   ],
   "source": [
    "import tensorflow as tf\n",
    "print(\"Num GPUs Available: \", len(tf.config.list_physical_devices('GPU')))\n",
    "\n",
    "import multiprocessing\n",
    "print(\"Número de núcleos de CPU disponibles: \", multiprocessing.cpu_count())"
   ]
  },
  {
   "cell_type": "markdown",
   "metadata": {
    "id": "NjwhewIb2IOr"
   },
   "source": [
    "# Carga de Imágenes con Aumento de Datos"
   ]
  },
  {
   "cell_type": "code",
   "execution_count": 5,
   "metadata": {
    "colab": {
     "base_uri": "https://localhost:8080/"
    },
    "executionInfo": {
     "elapsed": 5869,
     "status": "ok",
     "timestamp": 1676792765233,
     "user": {
      "displayName": "ANGEL ARIAS",
      "userId": "15940696792352955875"
     },
     "user_tz": 300
    },
    "id": "ylQnHZXL_uA5",
    "outputId": "370ac93f-a243-4f68-c3e3-3db2ff52a88f"
   },
   "outputs": [
    {
     "name": "stdout",
     "output_type": "stream",
     "text": [
      "Found 39342 images belonging to 2 classes.\n",
      "Found 218 images belonging to 2 classes.\n",
      "1229 6\n",
      "(32, 24, 24, 1)\n"
     ]
    }
   ],
   "source": [
    "\n",
    "BS = 32\n",
    "TS = (24, 24)\n",
    "\n",
    "# Generar los datos de entrenamiento con Aumento de Datos\n",
    "train_batch = generator(r\"C:\\Users\\acer.LAPTOP-5D7SPG9D\\Desktop\\Isaac\\YachayTech\\10mo Semestre\\Neuronal Networks\\Project_NN\\dataset_new\\train_merged\", shuffle=True, batch_size=BS, target_size=TS)\n",
    "\n",
    "# Generar los datos de entrenamiento con el generador de imágenes simple\n",
    "valid_batch = generator(r\"C:\\Users\\acer.LAPTOP-5D7SPG9D\\Desktop\\Isaac\\YachayTech\\10mo Semestre\\Neuronal Networks\\Project_NN\\dataset_new\\test\", shuffle=True, batch_size=BS, target_size=TS)\n",
    "\n",
    "SPE = len(train_batch.classes) // BS #Paso por épocas (Steps per Epoch)\n",
    "VS = len(valid_batch.classes) // BS #Paso de validación (Validation Step)\n",
    "print(SPE, VS)\n",
    "\n",
    "img, labels = next(train_batch)\n",
    "print(img.shape)\n"
   ]
  },
  {
   "cell_type": "code",
   "execution_count": 6,
   "metadata": {
    "colab": {
     "base_uri": "https://localhost:8080/"
    },
    "executionInfo": {
     "elapsed": 1415471,
     "status": "ok",
     "timestamp": 1676795256442,
     "user": {
      "displayName": "ANGEL ARIAS",
      "userId": "15940696792352955875"
     },
     "user_tz": 300
    },
    "id": "A9yIZqXXhkit",
    "outputId": "e5f7e4d1-be14-4c03-da54-348dde138465"
   },
   "outputs": [
    {
     "name": "stdout",
     "output_type": "stream",
     "text": [
      "class_map:\n",
      "<class 'dict'>\n",
      "{0: 'Closed', 1: 'Open'}\n",
      "valid_batch.class_indices:\n",
      "<class 'dict'>\n",
      "{'Closed': 0, 'Open': 1}\n",
      "Found 109 images belonging to 1 classes.\n",
      "Found 109 images belonging to 1 classes.\n"
     ]
    }
   ],
   "source": [
    "# Definir la ruta de la carpeta de destino para las imágenes generadas\n",
    "new_train_dir = r'C:\\Users\\acer.LAPTOP-5D7SPG9D\\Desktop\\Isaac\\YachayTech\\10mo Semestre\\Neuronal Networks\\Project_NN\\dataset_new\\test_augmented'\n",
    "\n",
    "# Crear un diccionario para mapear las clases con nuevos nombres\n",
    "class_map = {v: str(k) for k, v in valid_batch.class_indices.items()}\n",
    "\n",
    "# Imprimir los valores de class_map\n",
    "print(\"class_map:\")\n",
    "print(type(class_map))\n",
    "print(class_map)\n",
    "\n",
    "# Imprimir los valores de train_batch.class_indices\n",
    "print(\"valid_batch.class_indices:\")\n",
    "print(type(valid_batch.class_indices))\n",
    "print(valid_batch.class_indices)\n",
    "\n",
    "# Crear la nueva carpeta y guardar las imágenes generadas con nuevos nombres\n",
    "if not os.path.exists(new_train_dir):\n",
    "    os.makedirs(new_train_dir)\n",
    "\n",
    "# Generar nuevas imágenes aumentadas y guardarlas en la carpeta de destino\n",
    "for class_name in valid_batch.class_indices:\n",
    "    # Crear una subcarpeta para la clase en la nueva carpeta\n",
    "    class_dir = os.path.join(new_train_dir, str(class_name))\n",
    "    if not os.path.exists(class_dir):\n",
    "        os.makedirs(class_dir)\n",
    "    # Obtener la lista de archivos para la clase\n",
    "    class_files = [os.path.join(valid_batch.directory, class_name, f) for f in valid_batch.filenames if f.startswith(class_name)]\n",
    "    # Crear un nuevo generador para la clase\n",
    "    class_gen = train_datagen.flow_from_directory(valid_batch.directory, target_size=TS, classes=[class_name], class_mode=None, save_to_dir=class_dir, save_prefix=class_map[valid_batch.class_indices[class_name]], save_format='jpg')\n",
    "    # Generar y guardar las imágenes aumentadas en la subcarpeta de la clase\n",
    "    for i in range(len(class_files)):\n",
    "        batch = class_gen.next()\n"
   ]
  },
  {
   "cell_type": "code",
   "execution_count": 7,
   "metadata": {
    "id": "qrVJmUd3tTN5"
   },
   "outputs": [],
   "source": [
    "merged_dir = r'C:\\Users\\acer.LAPTOP-5D7SPG9D\\Desktop\\Isaac\\YachayTech\\10mo Semestre\\Neuronal Networks\\Project_NN\\dataset_new\\train_merged'\n",
    "if not os.path.exists(merged_dir):\n",
    "    os.makedirs(merged_dir)\n",
    "for class_name in train_batch.class_indices:\n",
    "    source_dir = os.path.join(train_batch.directory, class_name)\n",
    "    target_dir = os.path.join(merged_dir, str(class_name))\n",
    "    if not os.path.exists(target_dir):\n",
    "        os.makedirs(target_dir)\n",
    "    for filename in os.listdir(source_dir):\n",
    "        shutil.copy(os.path.join(source_dir, filename), os.path.join(target_dir, filename))\n",
    "    for filename in os.listdir(os.path.join(new_train_dir, str(class_name))):\n",
    "        shutil.copy(os.path.join(new_train_dir, str(class_name), filename), os.path.join(target_dir, filename))\n"
   ]
  },
  {
   "cell_type": "markdown",
   "metadata": {
    "id": "6m8QZcGI3vcR"
   },
   "source": [
    "# Modelo de CNN"
   ]
  },
  {
   "cell_type": "code",
   "execution_count": 6,
   "metadata": {
    "id": "a8xYnVZf1Sfj"
   },
   "outputs": [],
   "source": [
    "cnn_model = Sequential([\n",
    "    Conv2D(32, kernel_size=(3, 3), activation=\"relu\", input_shape=(24, 24, 1)),\n",
    "    BatchNormalization(),\n",
    "    MaxPooling2D(pool_size=(2, 2)),\n",
    "    Conv2D(64, kernel_size=(3, 3), activation=\"relu\"),\n",
    "    BatchNormalization(),\n",
    "    MaxPooling2D(pool_size=(2, 2)),\n",
    "    Conv2D(128, kernel_size=(3, 3), activation=\"relu\"),\n",
    "    BatchNormalization(),\n",
    "    MaxPooling2D(pool_size=(2, 2)),\n",
    "    Flatten(),\n",
    "    Dense(256, activation=\"relu\"),\n",
    "    Dropout(0.5),\n",
    "    Dense(2, activation=\"softmax\")\n",
    "])"
   ]
  },
  {
   "cell_type": "markdown",
   "metadata": {
    "id": "yYPgXySV3zPP"
   },
   "source": [
    "# Compilador de la CNN"
   ]
  },
  {
   "cell_type": "code",
   "execution_count": 7,
   "metadata": {
    "colab": {
     "base_uri": "https://localhost:8080/"
    },
    "executionInfo": {
     "elapsed": 6,
     "status": "ok",
     "timestamp": 1676796795964,
     "user": {
      "displayName": "ANGEL ARIAS",
      "userId": "15940696792352955875"
     },
     "user_tz": 300
    },
    "id": "4f9riPJKaCSp",
    "outputId": "70221ca1-0843-4353-8a18-2b4d340b41fa"
   },
   "outputs": [
    {
     "name": "stderr",
     "output_type": "stream",
     "text": [
      "C:\\Users\\acer.LAPTOP-5D7SPG9D\\.conda\\envs\\tf_gpu\\lib\\site-packages\\keras\\optimizers\\optimizer_v2\\adam.py:114: UserWarning: The `lr` argument is deprecated, use `learning_rate` instead.\n",
      "  super().__init__(name, **kwargs)\n"
     ]
    }
   ],
   "source": [
    "cnn_model.compile(\n",
    "    optimizer=Adam(lr=0.001),\n",
    "    loss=\"categorical_crossentropy\",\n",
    "    metrics=[\"accuracy\"]\n",
    ")"
   ]
  },
  {
   "cell_type": "markdown",
   "metadata": {
    "id": "NljYvo413kGL"
   },
   "source": [
    "# Agregar EarlyStopping para monitorear la pérdida en el conjunto de validación"
   ]
  },
  {
   "cell_type": "code",
   "execution_count": 10,
   "metadata": {
    "id": "WxBqesRL3kp1"
   },
   "outputs": [],
   "source": [
    "early_stop = keras.callbacks.EarlyStopping(\n",
    "    monitor='val_loss', patience=10, restore_best_weights=True)"
   ]
  },
  {
   "cell_type": "code",
   "execution_count": 11,
   "metadata": {
    "id": "8bQH7AwQ0iJQ"
   },
   "outputs": [
    {
     "name": "stdout",
     "output_type": "stream",
     "text": [
      "Found 78621 images belonging to 4 classes.\n"
     ]
    }
   ],
   "source": [
    "train_batch_f = train_datagen.flow_from_directory(r\"C:\\Users\\acer.LAPTOP-5D7SPG9D\\Desktop\\Isaac\\YachayTech\\10mo Semestre\\Neuronal Networks\\Project_NN\\dataset_new\\train_merged\", target_size=TS, batch_size=BS,\n",
    "                                                class_mode='categorical',color_mode='grayscale')"
   ]
  },
  {
   "cell_type": "markdown",
   "metadata": {
    "id": "YxK75Umh4BBT"
   },
   "source": [
    "# Entrenamiento del modelo"
   ]
  },
  {
   "cell_type": "code",
   "execution_count": 8,
   "metadata": {
    "colab": {
     "base_uri": "https://localhost:8080/"
    },
    "executionInfo": {
     "elapsed": 874617,
     "status": "ok",
     "timestamp": 1676768092887,
     "user": {
      "displayName": "ANGEL ARIAS",
      "userId": "15940696792352955875"
     },
     "user_tz": 300
    },
    "id": "2Y6ypwzJva1b",
    "outputId": "27770b2f-bc43-4e93-f131-2d99b3788c0e"
   },
   "outputs": [
    {
     "name": "stdout",
     "output_type": "stream",
     "text": [
      "Epoch 1/50\n",
      "1229/1229 [==============================] - 24s 16ms/step - loss: 0.0460 - accuracy: 0.9830 - val_loss: 0.0853 - val_accuracy: 0.9792\n",
      "Epoch 2/50\n",
      "1229/1229 [==============================] - 17s 14ms/step - loss: 0.0141 - accuracy: 0.9955 - val_loss: 0.2278 - val_accuracy: 0.9583\n",
      "Epoch 3/50\n",
      "1229/1229 [==============================] - 17s 14ms/step - loss: 0.0095 - accuracy: 0.9967 - val_loss: 0.1012 - val_accuracy: 0.9740\n",
      "Epoch 4/50\n",
      "1229/1229 [==============================] - 17s 14ms/step - loss: 0.0089 - accuracy: 0.9973 - val_loss: 0.0859 - val_accuracy: 0.9740\n",
      "Epoch 5/50\n",
      "1229/1229 [==============================] - 17s 14ms/step - loss: 0.0093 - accuracy: 0.9966 - val_loss: 0.1880 - val_accuracy: 0.9635\n",
      "Epoch 6/50\n",
      "1229/1229 [==============================] - 17s 14ms/step - loss: 0.0055 - accuracy: 0.9981 - val_loss: 0.0296 - val_accuracy: 0.9948\n",
      "Epoch 7/50\n",
      "1229/1229 [==============================] - 17s 14ms/step - loss: 0.0053 - accuracy: 0.9984 - val_loss: 0.0751 - val_accuracy: 0.9948\n",
      "Epoch 8/50\n",
      "1229/1229 [==============================] - 17s 14ms/step - loss: 0.0044 - accuracy: 0.9984 - val_loss: 0.0430 - val_accuracy: 0.9844\n",
      "Epoch 9/50\n",
      "1229/1229 [==============================] - 17s 14ms/step - loss: 0.0050 - accuracy: 0.9984 - val_loss: 0.0708 - val_accuracy: 0.9844\n",
      "Epoch 10/50\n",
      "1229/1229 [==============================] - 17s 14ms/step - loss: 0.0033 - accuracy: 0.9990 - val_loss: 0.0790 - val_accuracy: 0.9792\n",
      "Epoch 11/50\n",
      "1229/1229 [==============================] - 18s 14ms/step - loss: 0.0040 - accuracy: 0.9990 - val_loss: 0.0514 - val_accuracy: 0.9688\n",
      "Epoch 12/50\n",
      "1229/1229 [==============================] - 17s 14ms/step - loss: 0.0047 - accuracy: 0.9984 - val_loss: 0.0826 - val_accuracy: 0.9844\n",
      "Epoch 13/50\n",
      "1229/1229 [==============================] - 17s 14ms/step - loss: 0.0030 - accuracy: 0.9991 - val_loss: 0.0502 - val_accuracy: 0.9896\n",
      "Epoch 14/50\n",
      "1229/1229 [==============================] - 17s 14ms/step - loss: 0.0029 - accuracy: 0.9992 - val_loss: 0.0392 - val_accuracy: 0.9896\n",
      "Epoch 15/50\n",
      "1229/1229 [==============================] - 17s 14ms/step - loss: 0.0036 - accuracy: 0.9988 - val_loss: 0.0266 - val_accuracy: 0.9896\n",
      "Epoch 16/50\n",
      "1229/1229 [==============================] - 17s 14ms/step - loss: 0.0029 - accuracy: 0.9990 - val_loss: 0.0751 - val_accuracy: 0.9792\n",
      "Epoch 17/50\n",
      "1229/1229 [==============================] - 17s 14ms/step - loss: 0.0038 - accuracy: 0.9990 - val_loss: 0.0304 - val_accuracy: 0.9896\n",
      "Epoch 18/50\n",
      "1229/1229 [==============================] - 17s 14ms/step - loss: 0.0024 - accuracy: 0.9993 - val_loss: 0.0307 - val_accuracy: 0.9896\n",
      "Epoch 19/50\n",
      "1229/1229 [==============================] - 18s 14ms/step - loss: 0.0038 - accuracy: 0.9989 - val_loss: 0.0247 - val_accuracy: 0.9896\n",
      "Epoch 20/50\n",
      "1229/1229 [==============================] - 17s 14ms/step - loss: 0.0032 - accuracy: 0.9989 - val_loss: 0.0016 - val_accuracy: 1.0000\n",
      "Epoch 21/50\n",
      "1229/1229 [==============================] - 17s 14ms/step - loss: 0.0026 - accuracy: 0.9993 - val_loss: 0.0438 - val_accuracy: 0.9896\n",
      "Epoch 22/50\n",
      "1229/1229 [==============================] - 17s 14ms/step - loss: 0.0017 - accuracy: 0.9996 - val_loss: 0.0026 - val_accuracy: 1.0000\n",
      "Epoch 23/50\n",
      "1229/1229 [==============================] - 17s 14ms/step - loss: 0.0021 - accuracy: 0.9994 - val_loss: 0.0204 - val_accuracy: 0.9896\n",
      "Epoch 24/50\n",
      "1229/1229 [==============================] - 17s 14ms/step - loss: 0.0029 - accuracy: 0.9992 - val_loss: 0.0281 - val_accuracy: 0.9896\n",
      "Epoch 25/50\n",
      "1229/1229 [==============================] - 17s 14ms/step - loss: 0.0028 - accuracy: 0.9992 - val_loss: 0.0526 - val_accuracy: 0.9844\n",
      "Epoch 26/50\n",
      "1229/1229 [==============================] - 17s 14ms/step - loss: 0.0024 - accuracy: 0.9994 - val_loss: 0.0705 - val_accuracy: 0.9792\n",
      "Epoch 27/50\n",
      "1229/1229 [==============================] - 17s 14ms/step - loss: 0.0023 - accuracy: 0.9994 - val_loss: 0.0190 - val_accuracy: 0.9948\n",
      "Epoch 28/50\n",
      "1229/1229 [==============================] - 18s 14ms/step - loss: 0.0023 - accuracy: 0.9995 - val_loss: 0.0085 - val_accuracy: 0.9948\n",
      "Epoch 29/50\n",
      "1229/1229 [==============================] - 17s 14ms/step - loss: 0.0015 - accuracy: 0.9995 - val_loss: 0.0250 - val_accuracy: 0.9896\n",
      "Epoch 30/50\n",
      "1229/1229 [==============================] - 17s 14ms/step - loss: 0.0018 - accuracy: 0.9994 - val_loss: 0.0411 - val_accuracy: 0.9948\n",
      "Epoch 31/50\n",
      "1229/1229 [==============================] - 17s 14ms/step - loss: 0.0013 - accuracy: 0.9997 - val_loss: 0.0096 - val_accuracy: 1.0000\n",
      "Epoch 32/50\n",
      "1229/1229 [==============================] - 17s 14ms/step - loss: 0.0038 - accuracy: 0.9990 - val_loss: 0.0537 - val_accuracy: 0.9844\n",
      "Epoch 33/50\n",
      "1229/1229 [==============================] - 18s 15ms/step - loss: 0.0020 - accuracy: 0.9995 - val_loss: 0.0061 - val_accuracy: 1.0000\n",
      "Epoch 34/50\n",
      "1229/1229 [==============================] - 18s 14ms/step - loss: 0.0011 - accuracy: 0.9997 - val_loss: 0.0081 - val_accuracy: 0.9948\n",
      "Epoch 35/50\n",
      "1229/1229 [==============================] - 18s 15ms/step - loss: 0.0017 - accuracy: 0.9995 - val_loss: 0.0026 - val_accuracy: 1.0000\n",
      "Epoch 36/50\n",
      "1229/1229 [==============================] - 17s 14ms/step - loss: 0.0021 - accuracy: 0.9996 - val_loss: 0.0066 - val_accuracy: 0.9948\n",
      "Epoch 37/50\n",
      "1229/1229 [==============================] - 17s 14ms/step - loss: 0.0013 - accuracy: 0.9996 - val_loss: 0.0425 - val_accuracy: 0.9896\n",
      "Epoch 38/50\n",
      "1229/1229 [==============================] - 17s 14ms/step - loss: 0.0016 - accuracy: 0.9996 - val_loss: 0.1241 - val_accuracy: 0.9792\n",
      "Epoch 39/50\n",
      "1229/1229 [==============================] - 17s 14ms/step - loss: 0.0019 - accuracy: 0.9995 - val_loss: 0.0306 - val_accuracy: 0.9896\n",
      "Epoch 40/50\n",
      "1229/1229 [==============================] - 17s 14ms/step - loss: 4.7671e-04 - accuracy: 0.9998 - val_loss: 0.0736 - val_accuracy: 0.9740\n",
      "Epoch 41/50\n",
      "1229/1229 [==============================] - 18s 15ms/step - loss: 0.0015 - accuracy: 0.9997 - val_loss: 0.0864 - val_accuracy: 0.9896\n",
      "Epoch 42/50\n",
      "1229/1229 [==============================] - 17s 14ms/step - loss: 0.0016 - accuracy: 0.9995 - val_loss: 0.0404 - val_accuracy: 0.9844\n",
      "Epoch 43/50\n",
      "1229/1229 [==============================] - 18s 14ms/step - loss: 0.0022 - accuracy: 0.9995 - val_loss: 0.0279 - val_accuracy: 0.9896\n",
      "Epoch 44/50\n",
      "1229/1229 [==============================] - 17s 14ms/step - loss: 0.0011 - accuracy: 0.9996 - val_loss: 0.0088 - val_accuracy: 0.9948\n",
      "Epoch 45/50\n",
      "1229/1229 [==============================] - 17s 14ms/step - loss: 0.0016 - accuracy: 0.9996 - val_loss: 0.0191 - val_accuracy: 0.9896\n",
      "Epoch 46/50\n",
      "1229/1229 [==============================] - 18s 14ms/step - loss: 0.0031 - accuracy: 0.9995 - val_loss: 0.0641 - val_accuracy: 0.9948\n",
      "Epoch 47/50\n",
      "1229/1229 [==============================] - 17s 14ms/step - loss: 5.1305e-04 - accuracy: 0.9998 - val_loss: 0.1857 - val_accuracy: 0.9792\n",
      "Epoch 48/50\n",
      "1229/1229 [==============================] - 17s 14ms/step - loss: 3.8935e-04 - accuracy: 0.9998 - val_loss: 0.0740 - val_accuracy: 0.9792\n",
      "Epoch 49/50\n",
      "1229/1229 [==============================] - 17s 14ms/step - loss: 0.0033 - accuracy: 0.9994 - val_loss: 0.0175 - val_accuracy: 0.9948\n",
      "Epoch 50/50\n",
      "1229/1229 [==============================] - 17s 14ms/step - loss: 7.8914e-04 - accuracy: 0.9998 - val_loss: 0.0896 - val_accuracy: 0.9896\n"
     ]
    }
   ],
   "source": [
    "cnn_model.fit(\n",
    "    train_batch,\n",
    "    validation_data=valid_batch,\n",
    "    epochs=50,\n",
    "    steps_per_epoch=SPE,\n",
    "    validation_steps=VS,\n",
    "    use_multiprocessing=False, # Cambiar a False\n",
    "    workers=4,\n",
    "    max_queue_size=32,\n",
    "    #callbacks=[early_stop]\n",
    ")\n",
    "\n",
    "#Almacenaje de la Red entrenada\n",
    "cnn_model.save(r\"C:\\Users\\acer.LAPTOP-5D7SPG9D\\Desktop\\Isaac\\YachayTech\\10mo Semestre\\Neuronal Networks\\Project_NN\\models\\cnnDD3.h5\", overwrite=True)\n"
   ]
  },
  {
   "cell_type": "markdown",
   "metadata": {
    "id": "mNkxngwx6npI"
   },
   "source": [
    "# Métricas \"precision\", \"recall\", \"F1\" y \"accuracy\"\n"
   ]
  },
  {
   "cell_type": "code",
   "execution_count": 7,
   "metadata": {
    "colab": {
     "base_uri": "https://localhost:8080/"
    },
    "executionInfo": {
     "elapsed": 424,
     "status": "ok",
     "timestamp": 1676768524442,
     "user": {
      "displayName": "ANGEL ARIAS",
      "userId": "15940696792352955875"
     },
     "user_tz": 300
    },
    "id": "cXQ6o_O_6zgg",
    "outputId": "ac1fc97f-98a9-446c-a6a5-4c81ae0aac3c"
   },
   "outputs": [
    {
     "name": "stdout",
     "output_type": "stream",
     "text": [
      "Found 5950 images belonging to 2 classes.\n",
      "['Closed', 'Open']\n"
     ]
    }
   ],
   "source": [
    "# Extraer los nombres de las clases para el reporte\n",
    "train_generator = generator(r\"C:\\Users\\acer.LAPTOP-5D7SPG9D\\Desktop\\Isaac\\YachayTech\\10mo Semestre\\Neuronal Networks\\Project_NN\\dataset_new\\test_augmented\")\n",
    "num_classes = len(train_generator.class_indices)\n",
    "class_names = [k for k, v in sorted(train_generator.class_indices.items(), key=lambda item: item[1])]\n",
    "print(class_names)"
   ]
  },
  {
   "cell_type": "code",
   "execution_count": 8,
   "metadata": {
    "colab": {
     "base_uri": "https://localhost:8080/"
    },
    "executionInfo": {
     "elapsed": 193,
     "status": "ok",
     "timestamp": 1676768525736,
     "user": {
      "displayName": "ANGEL ARIAS",
      "userId": "15940696792352955875"
     },
     "user_tz": 300
    },
    "id": "zk0BMkk_81UY",
    "outputId": "1d91a4a4-8ad5-4ba0-8843-dd68258b21ab"
   },
   "outputs": [
    {
     "name": "stdout",
     "output_type": "stream",
     "text": [
      "Found 5950 images belonging to 2 classes.\n"
     ]
    }
   ],
   "source": [
    "# Conjunto de validación separado\n",
    "\n",
    "val_datagen = ImageDataGenerator(rescale=1.0/255)\n",
    "\n",
    "valid_data = val_datagen.flow_from_directory(r\"C:\\Users\\acer.LAPTOP-5D7SPG9D\\Desktop\\Isaac\\YachayTech\\10mo Semestre\\Neuronal Networks\\Project_NN\\dataset_new\\test_augmented\",\n",
    "    target_size=(24, 24),\n",
    "    batch_size=32,\n",
    "    class_mode='categorical',\n",
    "    color_mode='grayscale',\n",
    "    shuffle=False\n",
    ")"
   ]
  },
  {
   "cell_type": "code",
   "execution_count": 9,
   "metadata": {
    "colab": {
     "base_uri": "https://localhost:8080/"
    },
    "executionInfo": {
     "elapsed": 3199,
     "status": "ok",
     "timestamp": 1676769004881,
     "user": {
      "displayName": "ANGEL ARIAS",
      "userId": "15940696792352955875"
     },
     "user_tz": 300
    },
    "id": "w6pS_sI77Be5",
    "outputId": "15eaeec0-3bb9-49c5-83b0-941dc842b922"
   },
   "outputs": [
    {
     "name": "stderr",
     "output_type": "stream",
     "text": [
      "C:\\Users\\acer.LAPTOP-5D7SPG9D\\AppData\\Local\\Temp\\ipykernel_21844\\100606394.py:8: UserWarning: `Model.predict_generator` is deprecated and will be removed in a future version. Please use `Model.predict`, which supports generators.\n",
      "  Y_pred = cnn_model.predict_generator(valid_data, steps=len(valid_data))\n"
     ]
    },
    {
     "name": "stdout",
     "output_type": "stream",
     "text": [
      "Confusion Matrix\n",
      "[[2959   16]\n",
      " [  23 2952]]\n",
      "Classification Report\n",
      "              precision    recall  f1-score   support\n",
      "\n",
      "      Closed       0.99      0.99      0.99      2975\n",
      "        Open       0.99      0.99      0.99      2975\n",
      "\n",
      "    accuracy                           0.99      5950\n",
      "   macro avg       0.99      0.99      0.99      5950\n",
      "weighted avg       0.99      0.99      0.99      5950\n",
      "\n"
     ]
    }
   ],
   "source": [
    "# Predicciones para el conjunto de validación y calcular las métricas\n",
    "from keras.models import load_model\n",
    "from sklearn.metrics import classification_report, confusion_matrix\n",
    "\n",
    "#Carga del modelo entrenado\n",
    "cnn_model = load_model(r\"C:\\Users\\acer.LAPTOP-5D7SPG9D\\Desktop\\Isaac\\YachayTech\\10mo Semestre\\Neuronal Networks\\Project_NN\\models\\cnnDD3.h5\")\n",
    "\n",
    "Y_pred = cnn_model.predict_generator(valid_data, steps=len(valid_data))\n",
    "y_pred = np.argmax(Y_pred, axis=1)\n",
    "print('Confusion Matrix')\n",
    "print(confusion_matrix(valid_data.classes, y_pred))\n",
    "print('Classification Report')\n",
    "target_names = class_names\n",
    "print(classification_report(valid_data.classes, y_pred, target_names=target_names))\n"
   ]
  },
  {
   "cell_type": "markdown",
   "metadata": {
    "id": "UnQEAF8S_uW1"
   },
   "source": [
    "# Gráficas de \"precision\", \"recall\", \"F1\" y \"accuracy\""
   ]
  },
  {
   "cell_type": "code",
   "execution_count": 10,
   "metadata": {
    "colab": {
     "base_uri": "https://localhost:8080/",
     "height": 391
    },
    "executionInfo": {
     "elapsed": 4192,
     "status": "ok",
     "timestamp": 1676769017799,
     "user": {
      "displayName": "ANGEL ARIAS",
      "userId": "15940696792352955875"
     },
     "user_tz": 300
    },
    "id": "iVFrjomz_t2s",
    "outputId": "0ecb2997-5728-4acb-80a6-5e2cc2180352"
   },
   "outputs": [
    {
     "name": "stderr",
     "output_type": "stream",
     "text": [
      "C:\\Users\\acer.LAPTOP-5D7SPG9D\\AppData\\Local\\Temp\\ipykernel_21844\\4108852081.py:4: UserWarning: `Model.predict_generator` is deprecated and will be removed in a future version. Please use `Model.predict`, which supports generators.\n",
      "  Y_pred = cnn_model.predict_generator(valid_data, steps=len(valid_data))\n"
     ]
    },
    {
     "data": {
      "image/png": "[encoded data removed]",
      "text/plain": [
       "<Figure size 2000x500 with 4 Axes>"
      ]
     },
     "metadata": {},
     "output_type": "display_data"
    }
   ],
   "source": [
    "from sklearn.metrics import precision_recall_fscore_support, accuracy_score\n",
    "\n",
    "# Obtener las predicciones y los verdaderos valores\n",
    "Y_pred = cnn_model.predict_generator(valid_data, steps=len(valid_data))\n",
    "y_pred = np.argmax(Y_pred, axis=1)\n",
    "y_true = valid_data.classes\n",
    "\n",
    "# Calcular las métricas\n",
    "precision, recall, f1_score, _ = precision_recall_fscore_support(y_true, y_pred, average=None)\n",
    "accuracy = accuracy_score(y_true, y_pred)\n",
    "\n",
    "# Graficar las métricas\n",
    "fig, ax = plt.subplots(1, 4, figsize=(20, 5))\n",
    "ax[0].bar(class_names, precision)\n",
    "ax[0].set_title('Precision')\n",
    "ax[1].bar(class_names, recall)\n",
    "ax[1].set_title('Recall')\n",
    "ax[2].bar(class_names, f1_score)\n",
    "ax[2].set_title('F1-Score')\n",
    "ax[3].bar(['Accuracy'], [accuracy])\n",
    "ax[3].set_title('Accuracy')\n",
    "plt.show()"
   ]
  },
  {
   "cell_type": "code",
   "execution_count": null,
   "metadata": {},
   "outputs": [],
   "source": []
  }
 ],
 "metadata": {
  "accelerator": "GPU",
  "colab": {
   "authorship_tag": "ABX9TyNTRnIye741R/irN2+UJadQ",
   "mount_file_id": "1KgHzspFEz5wqiwdxNy-iQnrB0R4ZUNXu",
   "provenance": []
  },
  "gpuClass": "standard",
  "kernelspec": {
   "display_name": "Python 3 (ipykernel)",
   "language": "python",
   "name": "python3"
  },
  "language_info": {
   "codemirror_mode": {
    "name": "ipython",
    "version": 3
   },
   "file_extension": ".py",
   "mimetype": "text/x-python",
   "name": "python",
   "nbconvert_exporter": "python",
   "pygments_lexer": "ipython3",
   "version": "3.9.16"
  }
 },
 "nbformat": 4,
 "nbformat_minor": 1
}
